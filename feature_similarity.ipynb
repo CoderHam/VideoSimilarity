{
 "cells": [
  {
   "cell_type": "code",
   "execution_count": 1,
   "metadata": {},
   "outputs": [],
   "source": [
    "import numpy as np\n",
    "import imageio\n",
    "from skimage import transform\n",
    "import matplotlib.pyplot as plt\n",
    "from math import sqrt\n",
    "import glob\n",
    "import subprocess\n",
    "\n",
    "import extract_features\n",
    "%matplotlib inline"
   ]
  },
  {
   "cell_type": "code",
   "execution_count": 2,
   "metadata": {},
   "outputs": [],
   "source": [
    "def load_image(img_path, resize=True):\n",
    "    tmp_img = imageio.imread(img_path)\n",
    "    if resize:\n",
    "        return transform.resize(image=tmp_img,output_shape=(200,200),anti_aliasing=True, mode='constant')\n",
    "    return tmp_img"
   ]
  },
  {
   "cell_type": "code",
   "execution_count": 2,
   "metadata": {
    "scrolled": true
   },
   "outputs": [
    {
     "name": "stdout",
     "output_type": "stream",
     "text": [
      "20 ms ± 290 µs per loop (mean ± std. dev. of 7 runs, 100 loops each)\n"
     ]
    }
   ],
   "source": [
    "%timeit feature = extract_features.get_vector_resnet50('data/images/golden1.jpg')"
   ]
  },
  {
   "cell_type": "code",
   "execution_count": 2,
   "metadata": {},
   "outputs": [
    {
     "name": "stdout",
     "output_type": "stream",
     "text": [
      "10.4 ms ± 65.8 µs per loop (mean ± std. dev. of 7 runs, 100 loops each)\n"
     ]
    }
   ],
   "source": [
    "%timeit feature = extract_features.get_vector_resnet18('data/images/golden1.jpg')"
   ]
  },
  {
   "cell_type": "markdown",
   "metadata": {},
   "source": [
    "**Resnet 50** takes $2$ times the amount of time as **Resnet 18**."
   ]
  },
  {
   "cell_type": "code",
   "execution_count": 3,
   "metadata": {},
   "outputs": [
    {
     "name": "stdout",
     "output_type": "stream",
     "text": [
      "['animals', 'children', 'christmas', 'nature', 'school', 'snow', 'work']\n"
     ]
    }
   ],
   "source": [
    "classes = sorted([path.split(\"/\")[-1] for path in glob.glob(\"data/videos/*\")])\n",
    "print(classes)"
   ]
  },
  {
   "cell_type": "code",
   "execution_count": 2,
   "metadata": {},
   "outputs": [],
   "source": [
    "feature = extract_features.get_vector_resnet50('data/images/golden1.jpg')"
   ]
  },
  {
   "cell_type": "code",
   "execution_count": 7,
   "metadata": {
    "scrolled": true
   },
   "outputs": [
    {
     "data": {
      "text/plain": [
       "(2048,)"
      ]
     },
     "execution_count": 7,
     "metadata": {},
     "output_type": "execute_result"
    }
   ],
   "source": [
    "feature.shape"
   ]
  },
  {
   "cell_type": "code",
   "execution_count": 3,
   "metadata": {},
   "outputs": [
    {
     "data": {
      "text/plain": [
       "(1000, 2048)"
      ]
     },
     "execution_count": 3,
     "metadata": {},
     "output_type": "execute_result"
    }
   ],
   "source": [
    "concat_features = np.repeat([feature], repeats=1000,axis=0)\n",
    "concat_features.shape"
   ]
  },
  {
   "cell_type": "code",
   "execution_count": 6,
   "metadata": {},
   "outputs": [
    {
     "name": "stdout",
     "output_type": "stream",
     "text": [
      "Number of records: 1000 \n",
      "Number of dimensions: 2048\n",
      "Running with Flat index for 1000 records of with dimensionality 2048\n",
      "CPU times: user 9.75 ms, sys: 86.7 ms, total: 96.4 ms\n",
      "Wall time: 94.9 ms\n"
     ]
    }
   ],
   "source": [
    "import knn_cnn_features\n",
    "%time feature_indices = knn_cnn_features.run_knn_features(concat_features,k=3)"
   ]
  },
  {
   "cell_type": "markdown",
   "metadata": {},
   "source": [
    "For $1000$ feature vectors of dimensionality $2048$, the KNN search is very fast i.e. around $90$ms. These indices for the feature vectors can be used to get the corresponding videos and thereby similarity search can be implemented."
   ]
  },
  {
   "cell_type": "markdown",
   "metadata": {},
   "source": [
    "## Testing with real features (UCF101 subset)"
   ]
  },
  {
   "cell_type": "code",
   "execution_count": null,
   "metadata": {},
   "outputs": [],
   "source": [
    "feature_file = 'image_features.hdf5'\n",
    "feature_labels = np.array(feature_file['labels'])\n",
    "%time feature_indices = knn_cnn_features.run_knn_features(feature_file['features'],k=3)"
   ]
  },
  {
   "cell_type": "code",
   "execution_count": 5,
   "metadata": {},
   "outputs": [],
   "source": [
    "def vid_from_path(ss = 'data/videos/animals/0.mp4/output0001.jpg'):\n",
    "    vid_path = ss[:ss.rfind(\"/\")]\n",
    "#     frame_no = ss[ss.rfind(\"/\")+1:]\n",
    "    return vid_path"
   ]
  },
  {
   "cell_type": "code",
   "execution_count": 6,
   "metadata": {},
   "outputs": [],
   "source": [
    "def get_ordered_unique(listed):\n",
    "    seen = set()\n",
    "    seen_add = seen.add\n",
    "    return [x for x in listed if not (x in seen or seen_add(x))]"
   ]
  },
  {
   "cell_type": "code",
   "execution_count": 8,
   "metadata": {},
   "outputs": [],
   "source": [
    "similar_videos_ordered = get_ordered_unique(list(map(vid_from_path, feature_labels[feature_indices])))"
   ]
  }
 ],
 "metadata": {
  "kernelspec": {
   "display_name": "Python 3",
   "language": "python",
   "name": "python3"
  },
  "language_info": {
   "codemirror_mode": {
    "name": "ipython",
    "version": 3
   },
   "file_extension": ".py",
   "mimetype": "text/x-python",
   "name": "python",
   "nbconvert_exporter": "python",
   "pygments_lexer": "ipython3",
   "version": "3.6.6"
  }
 },
 "nbformat": 4,
 "nbformat_minor": 2
}
