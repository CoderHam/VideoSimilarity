{
 "cells": [
  {
   "cell_type": "markdown",
   "metadata": {},
   "source": [
    "# 3D CNN Feature Extraction and kNN Testing"
   ]
  },
  {
   "cell_type": "code",
   "execution_count": 485,
   "metadata": {},
   "outputs": [
    {
     "data": {
      "text/plain": [
       "<module 'knn_cnn_features' from '/mnt/c/Users/RyanBae/Dropbox/uw_data_science/capstone/VideoSimilarity/knn_cnn_features.py'>"
      ]
     },
     "execution_count": 485,
     "metadata": {},
     "output_type": "execute_result"
    }
   ],
   "source": [
    "import os\n",
    "import pickle\n",
    "import h5py\n",
    "import json\n",
    "import numpy as np\n",
    "import importlib\n",
    "import imageio\n",
    "# from skimage import transform\n",
    "import matplotlib.pyplot as plt\n",
    "%matplotlib inline\n",
    "from math import sqrt\n",
    "import glob\n",
    "import subprocess\n",
    "\n",
    "\n",
    "# custome modules\n",
    "import cnn3d_similarity_inference\n",
    "import knn_cnn_features\n",
    "importlib.reload(knn_cnn_features)"
   ]
  },
  {
   "cell_type": "markdown",
   "metadata": {},
   "source": [
    "## Accuracy Test"
   ]
  },
  {
   "cell_type": "code",
   "execution_count": 505,
   "metadata": {},
   "outputs": [
    {
     "name": "stdout",
     "output_type": "stream",
     "text": [
      "loading feature vectors...\n",
      "loading video labels...\n"
     ]
    }
   ],
   "source": [
    "# load feature vectors and video labels\n",
    "feature_vectors = cnn3d_similarity_inference.load_feature_vectors('feature_vectors_cnn3d_ucf101', './cnn3d_features')\n",
    "video_labels = cnn3d_similarity_inference.load_video_labels('video_labels_cnn3d_ucf101', './cnn3d_features')\n",
    "video_labels = np.array([fl.decode() for fl in video_labels])"
   ]
  },
  {
   "cell_type": "code",
   "execution_count": 506,
   "metadata": {},
   "outputs": [
    {
     "name": "stdout",
     "output_type": "stream",
     "text": [
      "(13320, 512)\n",
      "13320\n"
     ]
    }
   ],
   "source": [
    "# check loaded feature and label sizes\n",
    "print(feature_vectors.shape)\n",
    "print(len(video_labels))"
   ]
  },
  {
   "cell_type": "code",
   "execution_count": 486,
   "metadata": {},
   "outputs": [
    {
     "name": "stdout",
     "output_type": "stream",
     "text": [
      "1.04 s ± 109 ms per loop (mean ± std. dev. of 7 runs, 1 loop each)\n"
     ]
    }
   ],
   "source": [
    "%timeit feature_indices = knn_cnn_features.run_knn_features(feature_vectors=feature_vectors, k=3, gpu=False)"
   ]
  },
  {
   "cell_type": "code",
   "execution_count": 487,
   "metadata": {},
   "outputs": [],
   "source": [
    "# perform kNN search for every video in the UCF-101 dataset\n",
    "feature_indices = knn_cnn_features.run_knn_features(feature_vectors=feature_vectors, k=3, gpu=False)"
   ]
  },
  {
   "cell_type": "code",
   "execution_count": 514,
   "metadata": {},
   "outputs": [],
   "source": [
    "# get similar video labels\n",
    "similar_videos = video_labels[feature_indices]"
   ]
  },
  {
   "cell_type": "code",
   "execution_count": 524,
   "metadata": {
    "collapsed": true
   },
   "outputs": [],
   "source": [
    "def get_cls_accuracy(similar_videos, feature_labels, k=3):\n",
    "    accuracy = 0\n",
    "    for i, sim_vids in enumerate(similar_videos):\n",
    "        true_label = feature_labels[i].split('_')[1]\n",
    "        for sim_vid in sim_vids:\n",
    "            pred_label = sim_vid.split('_')[1]\n",
    "            accuracy += np.sum(pred_label==true_label)/k\n",
    "    return accuracy/len(feature_labels)"
   ]
  },
  {
   "cell_type": "code",
   "execution_count": 527,
   "metadata": {
    "scrolled": false
   },
   "outputs": [
    {
     "name": "stdout",
     "output_type": "stream",
     "text": [
      "Accuracy: 0.897\n"
     ]
    }
   ],
   "source": [
    "accuracy = get_cls_accuracy(similar_videos, video_labels)\n",
    "print(\"Accuracy:\", round(accuracy, 3))"
   ]
  },
  {
   "cell_type": "markdown",
   "metadata": {},
   "source": [
    "## Accuracy Test with Test/Train Split"
   ]
  },
  {
   "cell_type": "code",
   "execution_count": 538,
   "metadata": {},
   "outputs": [],
   "source": [
    "from sklearn.model_selection import train_test_split\n",
    "X_train, X_test, y_train, y_test = train_test_split(feature_vectors, video_labels, \\\n",
    "                                        test_size=0.3, random_state=42)"
   ]
  },
  {
   "cell_type": "code",
   "execution_count": 539,
   "metadata": {},
   "outputs": [
    {
     "name": "stdout",
     "output_type": "stream",
     "text": [
      "246 ms ± 3.54 ms per loop (mean ± std. dev. of 7 runs, 1 loop each)\n"
     ]
    }
   ],
   "source": [
    "%timeit feature_indices = knn_cnn_features.run_knn_features(X_train, test_vectors=X_test, k=3, gpu=False)"
   ]
  },
  {
   "cell_type": "code",
   "execution_count": 540,
   "metadata": {},
   "outputs": [],
   "source": [
    "feature_indices = knn_cnn_features.run_knn_features(X_train, test_vectors=X_test, k=3, gpu=False)"
   ]
  },
  {
   "cell_type": "code",
   "execution_count": 541,
   "metadata": {},
   "outputs": [],
   "source": [
    "similar_videos = y_train[feature_indices]"
   ]
  },
  {
   "cell_type": "code",
   "execution_count": 542,
   "metadata": {},
   "outputs": [
    {
     "name": "stdout",
     "output_type": "stream",
     "text": [
      "Accuracy: 0.7467467467468066\n"
     ]
    }
   ],
   "source": [
    "print(\"Accuracy:\",get_cls_accuracy(similar_videos, y_test))"
   ]
  },
  {
   "cell_type": "code",
   "execution_count": null,
   "metadata": {
    "collapsed": true
   },
   "outputs": [],
   "source": []
  }
 ],
 "metadata": {
  "kernelspec": {
   "display_name": "Python [conda env:pytorch]",
   "language": "python",
   "name": "conda-env-pytorch-py"
  }
 },
 "nbformat": 4,
 "nbformat_minor": 2
}
