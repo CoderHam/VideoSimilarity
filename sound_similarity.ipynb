{
 "cells": [
  {
   "cell_type": "code",
   "execution_count": 2,
   "metadata": {},
   "outputs": [],
   "source": [
    "import numpy as np\n",
    "import imageio\n",
    "from skimage import transform\n",
    "import matplotlib.pyplot as plt\n",
    "from math import sqrt\n",
    "import glob\n",
    "import subprocess\n",
    "\n",
    "import h5py\n",
    "%matplotlib inline"
   ]
  },
  {
   "cell_type": "code",
   "execution_count": 2,
   "metadata": {},
   "outputs": [],
   "source": [
    "p = subprocess.Popen(\"ffmpeg -i data/videos/animals/2.mp4 -f wav -vn data/tmp/animals_0.wav\", \\\n",
    "                     stdout=subprocess.PIPE, shell=True)\n",
    "(output, err) = p.communicate()\n",
    "p_status = p.wait()"
   ]
  },
  {
   "cell_type": "markdown",
   "metadata": {},
   "source": [
    "Checking if there is an audio channel. If not, the output audio stream will be empty."
   ]
  },
  {
   "cell_type": "code",
   "execution_count": 3,
   "metadata": {},
   "outputs": [],
   "source": [
    "p = subprocess.Popen(\"ffprobe -i data/videos/animals/0.mp4 -show_streams -select_streams a -loglevel error\"\\\n",
    "                     , stdout=subprocess.PIPE, shell=True)\n",
    "(output, err) = p.communicate()\n",
    "p_status = p.wait()"
   ]
  },
  {
   "cell_type": "code",
   "execution_count": 4,
   "metadata": {},
   "outputs": [
    {
     "data": {
      "text/plain": [
       "'No audio channel'"
      ]
     },
     "execution_count": 4,
     "metadata": {},
     "output_type": "execute_result"
    }
   ],
   "source": [
    "\"No audio channel\" if output.decode()=='' else \"Audio channels present:\"+output.decode()"
   ]
  },
  {
   "cell_type": "code",
   "execution_count": 5,
   "metadata": {
    "scrolled": true
   },
   "outputs": [],
   "source": [
    "!ffprobe -i data/videos/animals/0.mp4 -show_streams -select_streams a -loglevel error"
   ]
  },
  {
   "cell_type": "code",
   "execution_count": 6,
   "metadata": {},
   "outputs": [],
   "source": [
    "p = subprocess.Popen(\"ffprobe -i /home/hemant/Videos/Titans\\ -\\ Season\\ 1.mp4 -show_streams -select_streams a -loglevel error\", \\\n",
    "                     stdout=subprocess.PIPE, shell=True)\n",
    "(output, err) = p.communicate()\n",
    "p_status = p.wait()"
   ]
  },
  {
   "cell_type": "code",
   "execution_count": 7,
   "metadata": {},
   "outputs": [
    {
     "data": {
      "text/plain": [
       "'Audio channels present:[STREAM]\\nindex=1\\ncodec_name=aac\\ncodec_long_name=AAC (Advanced Audio Coding)\\nprofile=LC\\ncodec_type=audio\\ncodec_time_base=1/44100\\ncodec_tag_string=mp4a\\ncodec_tag=0x6134706d\\nsample_fmt=fltp\\nsample_rate=44100\\nchannels=2\\nchannel_layout=stereo\\nbits_per_sample=0\\nid=N/A\\nr_frame_rate=0/0\\navg_frame_rate=0/0\\ntime_base=1/44100\\nstart_pts=0\\nstart_time=0.000000\\nduration_ts=114762752\\nduration=2602.329977\\nbit_rate=125588\\nmax_bit_rate=N/A\\nbits_per_raw_sample=N/A\\nnb_frames=112073\\nnb_read_frames=N/A\\nnb_read_packets=N/A\\nDISPOSITION:default=1\\nDISPOSITION:dub=0\\nDISPOSITION:original=0\\nDISPOSITION:comment=0\\nDISPOSITION:lyrics=0\\nDISPOSITION:karaoke=0\\nDISPOSITION:forced=0\\nDISPOSITION:hearing_impaired=0\\nDISPOSITION:visual_impaired=0\\nDISPOSITION:clean_effects=0\\nDISPOSITION:attached_pic=0\\nDISPOSITION:timed_thumbnails=0\\nTAG:creation_time=2018-12-03T23:09:27.000000Z\\nTAG:language=eng\\nTAG:handler_name=ISO Media file produced by Google Inc. Created on: 12/03/2018.\\n[/STREAM]\\n'"
      ]
     },
     "execution_count": 7,
     "metadata": {},
     "output_type": "execute_result"
    }
   ],
   "source": [
    "\"No audio channel\" if output.decode()=='' else \"Audio channels present:\"+output.decode()"
   ]
  },
  {
   "cell_type": "code",
   "execution_count": 8,
   "metadata": {},
   "outputs": [],
   "source": [
    "p = subprocess.Popen(\"ffmpeg -i /home/hemant/Videos/Titans\\ -\\ Season\\ 1.mp4 -f wav -vn data/tmp/animals_0.wav\", \\\n",
    "                     stdout=subprocess.PIPE, shell=True)\n",
    "(output, err) = p.communicate()\n",
    "p_status = p.wait()"
   ]
  },
  {
   "cell_type": "code",
   "execution_count": 9,
   "metadata": {},
   "outputs": [],
   "source": [
    "# The file is huge. Taking a small chunk of it and delete the larger chunk\n",
    "!ffmpeg -t 30 -i data/tmp/animals_0.wav data/tmp/mini_0.wav -loglevel error && rm animals_0.wav"
   ]
  },
  {
   "cell_type": "code",
   "execution_count": 10,
   "metadata": {},
   "outputs": [],
   "source": [
    "# sample script to create a log_mel_spectrogram\n",
    "from scipy.io import wavfile\n",
    "from scipy import signal\n",
    "\n",
    "sample_rate=16000\n",
    "window_size=20\n",
    "step_size=10\n",
    "eps=1e-10\n",
    "rate, data = wavfile.read('data/tmp/mini_0.wav')\n",
    "if data.ndim > 1 : # ignore  channels 2+\n",
    "    data = data[:, 0]\n",
    "nperseg = int(round(window_size * sample_rate / 1e3))\n",
    "noverlap = int(round(step_size * sample_rate / 1e3))\n",
    "freqs, times, spec = signal.spectrogram(data,fs=sample_rate,window='hann',nperseg=nperseg,noverlap=noverlap)\n",
    "log_specgram = np.log(spec.T.astype(np.float32) + eps)"
   ]
  },
  {
   "cell_type": "code",
   "execution_count": 11,
   "metadata": {},
   "outputs": [
    {
     "name": "stdout",
     "output_type": "stream",
     "text": [
      "(8267, 161)\n"
     ]
    }
   ],
   "source": [
    "print(log_specgram.shape)"
   ]
  },
  {
   "cell_type": "code",
   "execution_count": 3,
   "metadata": {},
   "outputs": [],
   "source": [
    "import sys\n",
    "sys.path.append(\"audioset/\")"
   ]
  },
  {
   "cell_type": "markdown",
   "metadata": {},
   "source": [
    "The module **vggish_input** has a function **wavfile_to_examples** which returns the log_mel_spectrogram (after correction intro standard form) of the input **wav_file**."
   ]
  },
  {
   "cell_type": "code",
   "execution_count": 4,
   "metadata": {},
   "outputs": [],
   "source": [
    "import vggish_input\n",
    "features_tensor = vggish_input.wavfile_to_examples(wav_file='data/tmp/mini_0.wav')"
   ]
  },
  {
   "cell_type": "markdown",
   "metadata": {},
   "source": [
    "827 ms ± 20 ms per loop (mean ± std. dev. of 7 runs, 1 loop each)"
   ]
  },
  {
   "cell_type": "code",
   "execution_count": 5,
   "metadata": {},
   "outputs": [
    {
     "data": {
      "text/plain": [
       "(31, 96, 64)"
      ]
     },
     "execution_count": 5,
     "metadata": {},
     "output_type": "execute_result"
    }
   ],
   "source": [
    "features_tensor.shape"
   ]
  },
  {
   "cell_type": "markdown",
   "metadata": {},
   "source": [
    "The module **vggish_inference** has a function **main** which returns the vggish extracted embedding (from the log_mel_spectrogram that is in turn created by vggish_input) of the input **wav_file**."
   ]
  },
  {
   "cell_type": "code",
   "execution_count": 6,
   "metadata": {},
   "outputs": [
    {
     "name": "stdout",
     "output_type": "stream",
     "text": [
      "INFO:tensorflow:Restoring parameters from audioset/vggish_model.ckpt\n"
     ]
    }
   ],
   "source": [
    "import vggish_inference\n",
    "embedding_batch, postprocessed_batch = vggish_inference.main(wav_file='data/tmp/mini_0.wav')"
   ]
  },
  {
   "cell_type": "markdown",
   "metadata": {},
   "source": [
    "1.94 s ± 6.51 ms per loop (mean ± std. dev. of 7 runs, 1 loop each)"
   ]
  },
  {
   "cell_type": "code",
   "execution_count": 16,
   "metadata": {},
   "outputs": [
    {
     "data": {
      "text/plain": [
       "(31, 128)"
      ]
     },
     "execution_count": 16,
     "metadata": {},
     "output_type": "execute_result"
    }
   ],
   "source": [
    "embedding_batch.shape"
   ]
  },
  {
   "cell_type": "markdown",
   "metadata": {},
   "source": [
    "Here $31$ is the time in seconds of the audio stream and $128$ is the dimensionality of the extracted vggish embedding."
   ]
  },
  {
   "cell_type": "markdown",
   "metadata": {},
   "source": [
    "### Read extracted audioset embeddings"
   ]
  },
  {
   "cell_type": "code",
   "execution_count": 1,
   "metadata": {},
   "outputs": [],
   "source": [
    "import tensorflow as tf\n",
    "import numpy as np\n",
    "import glob \n",
    "tf.enable_eager_execution()\n",
    "\n",
    "files = sorted(glob.glob('audioset/data/audioset_v1_embeddings/bal_train/*'))"
   ]
  },
  {
   "cell_type": "code",
   "execution_count": 2,
   "metadata": {},
   "outputs": [],
   "source": [
    "def readTfRecords(tfrecords_filename, verbose = False, std_frames=10):\n",
    "    multiple_audio_embedding = []\n",
    "    labels = []\n",
    "\n",
    "    record_iterator = tf.python_io.tf_record_iterator(path=tfrecords_filename)\n",
    "    for string_record in record_iterator:\n",
    "        example = tf.train.SequenceExample.FromString(string_record)\n",
    "        label = np.array(example.context.feature['labels'].int64_list.value)\n",
    "        n_frames = len(example.feature_lists.feature_list['audio_embedding'].feature)\n",
    "        audio_embedding = []\n",
    "        for i in range(n_frames):\n",
    "            audio_embedding.append(tf.cast(tf.decode_raw(example.feature_lists.feature_list['audio_embedding']\\\n",
    "                        .feature[i].bytes_list.value[0],tf.uint8),tf.float32).numpy())\n",
    "        audio_embedding = np.array(audio_embedding)\n",
    "        \n",
    "        if n_frames==std_frames:\n",
    "            labels.append(label)\n",
    "            multiple_audio_embedding.append(audio_embedding)\n",
    "        if verbose:\n",
    "            print('labels: ' + str(label))\n",
    "            print(audio_embedding.shape)\n",
    "    return np.array(multiple_audio_embedding), labels"
   ]
  },
  {
   "cell_type": "code",
   "execution_count": 4,
   "metadata": {},
   "outputs": [
    {
     "name": "stdout",
     "output_type": "stream",
     "text": [
      "CPU times: user 40.1 ms, sys: 19 ms, total: 59.1 ms\n",
      "Wall time: 44.8 ms\n"
     ]
    }
   ],
   "source": [
    "%time multiple_audio_embedding, labels = readTfRecords(files[1])"
   ]
  },
  {
   "cell_type": "code",
   "execution_count": 5,
   "metadata": {},
   "outputs": [
    {
     "data": {
      "text/plain": [
       "((8, 10, 128), 8)"
      ]
     },
     "execution_count": 5,
     "metadata": {},
     "output_type": "execute_result"
    }
   ],
   "source": [
    "multiple_audio_embedding.shape, len(labels)"
   ]
  },
  {
   "cell_type": "code",
   "execution_count": 6,
   "metadata": {},
   "outputs": [
    {
     "data": {
      "text/plain": [
       "4070"
      ]
     },
     "execution_count": 6,
     "metadata": {},
     "output_type": "execute_result"
    }
   ],
   "source": [
    "len(files)"
   ]
  },
  {
   "cell_type": "code",
   "execution_count": 6,
   "metadata": {},
   "outputs": [],
   "source": [
    "from tqdm import tqdm\n",
    "import h5py"
   ]
  },
  {
   "cell_type": "code",
   "execution_count": 7,
   "metadata": {},
   "outputs": [
    {
     "name": "stderr",
     "output_type": "stream",
     "text": [
      "100%|██████████| 4070/4070 [01:04<00:00, 63.43it/s]\n"
     ]
    }
   ],
   "source": [
    "all_audio_embedding = np.zeros((22176,10,128))\n",
    "all_labels = []\n",
    "pos = 0\n",
    "for file in tqdm(files):\n",
    "    multiple_audio_embedding, labels = readTfRecords(file)\n",
    "    length = len(labels)\n",
    "    if multiple_audio_embedding.shape!=(0,):\n",
    "        try:\n",
    "            all_audio_embedding[pos:(pos+length),] = np.array(multiple_audio_embedding)\n",
    "            all_labels = all_labels + labels\n",
    "            pos+=length\n",
    "        except:\n",
    "            print(multiple_audio_embedding.shape,file, length)\n",
    "            break"
   ]
  },
  {
   "cell_type": "code",
   "execution_count": 8,
   "metadata": {},
   "outputs": [],
   "source": [
    "all_audio_embedding = all_audio_embedding[:pos,]"
   ]
  },
  {
   "cell_type": "code",
   "execution_count": 9,
   "metadata": {},
   "outputs": [
    {
     "data": {
      "text/plain": [
       "((21782, 10, 128), 21782)"
      ]
     },
     "execution_count": 9,
     "metadata": {},
     "output_type": "execute_result"
    }
   ],
   "source": [
    "all_audio_embedding.shape, len(all_labels)"
   ]
  },
  {
   "cell_type": "code",
   "execution_count": 11,
   "metadata": {},
   "outputs": [
    {
     "data": {
      "text/plain": [
       "<HDF5 dataset \"audio_embeddings\": shape (21782, 10, 128), type \"<f8\">"
      ]
     },
     "execution_count": 11,
     "metadata": {},
     "output_type": "execute_result"
    }
   ],
   "source": [
    "audioset_h5f = h5py.File('audioset_balanced_features_vggish.h5', 'w')\n",
    "audioset_h5f.create_dataset('audio_embeddings', data=all_audio_embedding)\n",
    "audioset_h5f.close()"
   ]
  },
  {
   "cell_type": "code",
   "execution_count": 12,
   "metadata": {},
   "outputs": [],
   "source": [
    "np.save('audioset_balanced_labels.npy', all_labels)"
   ]
  },
  {
   "cell_type": "code",
   "execution_count": 34,
   "metadata": {},
   "outputs": [
    {
     "data": {
      "text/plain": [
       "Counter({399: 58,\n",
       "         0: 5668,\n",
       "         451: 60,\n",
       "         27: 517,\n",
       "         466: 57,\n",
       "         95: 57,\n",
       "         137: 6201,\n",
       "         427: 169,\n",
       "         431: 59,\n",
       "         375: 58,\n",
       "         32: 60,\n",
       "         34: 59,\n",
       "         482: 57,\n",
       "         233: 60,\n",
       "         359: 51,\n",
       "         506: 760,\n",
       "         3: 154,\n",
       "         39: 60,\n",
       "         252: 60,\n",
       "         288: 282,\n",
       "         370: 87,\n",
       "         371: 66,\n",
       "         138: 532,\n",
       "         139: 302,\n",
       "         140: 350,\n",
       "         143: 60,\n",
       "         146: 60,\n",
       "         229: 60,\n",
       "         231: 60,\n",
       "         251: 62,\n",
       "         195: 262,\n",
       "         212: 60,\n",
       "         330: 60,\n",
       "         220: 60,\n",
       "         519: 59,\n",
       "         135: 59,\n",
       "         264: 60,\n",
       "         343: 186,\n",
       "         348: 60,\n",
       "         352: 60,\n",
       "         53: 60,\n",
       "         361: 55,\n",
       "         444: 60,\n",
       "         456: 59,\n",
       "         263: 61,\n",
       "         301: 239,\n",
       "         305: 60,\n",
       "         155: 119,\n",
       "         156: 61,\n",
       "         198: 63,\n",
       "         72: 720,\n",
       "         87: 76,\n",
       "         89: 55,\n",
       "         300: 852,\n",
       "         317: 59,\n",
       "         525: 60,\n",
       "         261: 61,\n",
       "         310: 58,\n",
       "         322: 141,\n",
       "         324: 69,\n",
       "         396: 207,\n",
       "         279: 60,\n",
       "         437: 166,\n",
       "         439: 60,\n",
       "         2: 59,\n",
       "         473: 60,\n",
       "         489: 57,\n",
       "         142: 60,\n",
       "         299: 60,\n",
       "         398: 56,\n",
       "         169: 60,\n",
       "         51: 60,\n",
       "         383: 59,\n",
       "         161: 262,\n",
       "         164: 189,\n",
       "         170: 63,\n",
       "         469: 58,\n",
       "         109: 60,\n",
       "         280: 60,\n",
       "         316: 74,\n",
       "         319: 60,\n",
       "         234: 60,\n",
       "         270: 60,\n",
       "         416: 61,\n",
       "         73: 408,\n",
       "         81: 118,\n",
       "         83: 59,\n",
       "         357: 58,\n",
       "         29: 59,\n",
       "         351: 60,\n",
       "         498: 56,\n",
       "         136: 60,\n",
       "         268: 61,\n",
       "         149: 60,\n",
       "         350: 60,\n",
       "         346: 59,\n",
       "         366: 59,\n",
       "         65: 58,\n",
       "         177: 61,\n",
       "         363: 60,\n",
       "         151: 60,\n",
       "         507: 168,\n",
       "         362: 60,\n",
       "         376: 59,\n",
       "         275: 60,\n",
       "         276: 61,\n",
       "         442: 59,\n",
       "         454: 61,\n",
       "         241: 60,\n",
       "         355: 54,\n",
       "         378: 57,\n",
       "         524: 49,\n",
       "         37: 60,\n",
       "         283: 168,\n",
       "         285: 143,\n",
       "         304: 58,\n",
       "         521: 60,\n",
       "         339: 60,\n",
       "         345: 60,\n",
       "         43: 60,\n",
       "         380: 58,\n",
       "         314: 58,\n",
       "         96: 55,\n",
       "         97: 57,\n",
       "         42: 58,\n",
       "         50: 59,\n",
       "         495: 61,\n",
       "         386: 60,\n",
       "         52: 58,\n",
       "         364: 60,\n",
       "         365: 60,\n",
       "         85: 58,\n",
       "         33: 58,\n",
       "         162: 94,\n",
       "         166: 87,\n",
       "         168: 87,\n",
       "         171: 64,\n",
       "         172: 60,\n",
       "         20: 61,\n",
       "         62: 58,\n",
       "         422: 60,\n",
       "         476: 145,\n",
       "         210: 60,\n",
       "         28: 61,\n",
       "         1: 60,\n",
       "         11: 59,\n",
       "         94: 59,\n",
       "         277: 60,\n",
       "         486: 57,\n",
       "         238: 60,\n",
       "         183: 59,\n",
       "         215: 61,\n",
       "         243: 60,\n",
       "         474: 59,\n",
       "         67: 63,\n",
       "         272: 60,\n",
       "         203: 50,\n",
       "         510: 255,\n",
       "         520: 58,\n",
       "         60: 60,\n",
       "         447: 60,\n",
       "         35: 60,\n",
       "         10: 58,\n",
       "         223: 62,\n",
       "         225: 60,\n",
       "         282: 60,\n",
       "         201: 65,\n",
       "         200: 56,\n",
       "         165: 93,\n",
       "         167: 66,\n",
       "         326: 60,\n",
       "         68: 60,\n",
       "         126: 166,\n",
       "         129: 113,\n",
       "         131: 60,\n",
       "         429: 61,\n",
       "         80: 60,\n",
       "         14: 56,\n",
       "         419: 60,\n",
       "         244: 60,\n",
       "         262: 60,\n",
       "         124: 60,\n",
       "         360: 59,\n",
       "         496: 103,\n",
       "         516: 66,\n",
       "         31: 61,\n",
       "         373: 59,\n",
       "         347: 60,\n",
       "         424: 74,\n",
       "         267: 60,\n",
       "         214: 60,\n",
       "         448: 60,\n",
       "         286: 65,\n",
       "         287: 70,\n",
       "         289: 113,\n",
       "         290: 66,\n",
       "         291: 60,\n",
       "         460: 60,\n",
       "         403: 67,\n",
       "         12: 60,\n",
       "         69: 146,\n",
       "         306: 63,\n",
       "         307: 294,\n",
       "         513: 60,\n",
       "         358: 59,\n",
       "         465: 61,\n",
       "         412: 60,\n",
       "         446: 57,\n",
       "         509: 255,\n",
       "         461: 60,\n",
       "         226: 61,\n",
       "         491: 60,\n",
       "         379: 60,\n",
       "         278: 60,\n",
       "         512: 59,\n",
       "         475: 57,\n",
       "         381: 60,\n",
       "         450: 59,\n",
       "         218: 60,\n",
       "         254: 60,\n",
       "         82: 59,\n",
       "         468: 60,\n",
       "         497: 59,\n",
       "         274: 62,\n",
       "         273: 61,\n",
       "         79: 60,\n",
       "         54: 60,\n",
       "         55: 59,\n",
       "         499: 59,\n",
       "         259: 62,\n",
       "         74: 271,\n",
       "         438: 56,\n",
       "         76: 60,\n",
       "         71: 60,\n",
       "         511: 59,\n",
       "         121: 60,\n",
       "         78: 60,\n",
       "         440: 60,\n",
       "         493: 58,\n",
       "         417: 59,\n",
       "         92: 60,\n",
       "         58: 56,\n",
       "         297: 59,\n",
       "         232: 60,\n",
       "         36: 60,\n",
       "         434: 53,\n",
       "         508: 59,\n",
       "         418: 100,\n",
       "         425: 59,\n",
       "         411: 60,\n",
       "         471: 59,\n",
       "         150: 62,\n",
       "         192: 131,\n",
       "         372: 60,\n",
       "         452: 60,\n",
       "         152: 142,\n",
       "         153: 87,\n",
       "         502: 59,\n",
       "         483: 57,\n",
       "         413: 60,\n",
       "         174: 60,\n",
       "         196: 62,\n",
       "         209: 61,\n",
       "         337: 64,\n",
       "         349: 60,\n",
       "         128: 56,\n",
       "         185: 230,\n",
       "         186: 61,\n",
       "         458: 58,\n",
       "         154: 62,\n",
       "         173: 59,\n",
       "         472: 56,\n",
       "         98: 198,\n",
       "         106: 70,\n",
       "         107: 59,\n",
       "         293: 62,\n",
       "         323: 61,\n",
       "         250: 60,\n",
       "         265: 62,\n",
       "         248: 60,\n",
       "         99: 80,\n",
       "         100: 60,\n",
       "         101: 58,\n",
       "         111: 170,\n",
       "         112: 126,\n",
       "         176: 59,\n",
       "         249: 62,\n",
       "         494: 59,\n",
       "         487: 59,\n",
       "         298: 62,\n",
       "         430: 57,\n",
       "         227: 61,\n",
       "         478: 60,\n",
       "         393: 59,\n",
       "         504: 50,\n",
       "         202: 61,\n",
       "         258: 66,\n",
       "         462: 60,\n",
       "         216: 63,\n",
       "         114: 57,\n",
       "         86: 118,\n",
       "         93: 59,\n",
       "         260: 64,\n",
       "         467: 50,\n",
       "         48: 59,\n",
       "         294: 68,\n",
       "         295: 64,\n",
       "         435: 57,\n",
       "         407: 60,\n",
       "         382: 60,\n",
       "         256: 60,\n",
       "         484: 55,\n",
       "         41: 61,\n",
       "         397: 60,\n",
       "         84: 90,\n",
       "         134: 56,\n",
       "         344: 60,\n",
       "         414: 59,\n",
       "         480: 59,\n",
       "         77: 58,\n",
       "         501: 60,\n",
       "         503: 60,\n",
       "         271: 60,\n",
       "         353: 60,\n",
       "         115: 58,\n",
       "         116: 59,\n",
       "         13: 59,\n",
       "         470: 52,\n",
       "         9: 60,\n",
       "         404: 115,\n",
       "         410: 59,\n",
       "         320: 57,\n",
       "         187: 63,\n",
       "         420: 60,\n",
       "         66: 65,\n",
       "         463: 107,\n",
       "         464: 60,\n",
       "         517: 62,\n",
       "         222: 61,\n",
       "         239: 109,\n",
       "         240: 60,\n",
       "         389: 58,\n",
       "         392: 60,\n",
       "         312: 60,\n",
       "         313: 59,\n",
       "         315: 60,\n",
       "         158: 60,\n",
       "         49: 59,\n",
       "         341: 59,\n",
       "         18: 57,\n",
       "         59: 60,\n",
       "         500: 60,\n",
       "         477: 60,\n",
       "         479: 60,\n",
       "         127: 61,\n",
       "         335: 109,\n",
       "         338: 60,\n",
       "         356: 57,\n",
       "         122: 58,\n",
       "         526: 60,\n",
       "         302: 59,\n",
       "         453: 59,\n",
       "         514: 62,\n",
       "         221: 61,\n",
       "         415: 60,\n",
       "         25: 55,\n",
       "         190: 60,\n",
       "         328: 188,\n",
       "         329: 187,\n",
       "         331: 62,\n",
       "         332: 182,\n",
       "         141: 65,\n",
       "         377: 60,\n",
       "         178: 58,\n",
       "         374: 58,\n",
       "         325: 60,\n",
       "         445: 61,\n",
       "         208: 61,\n",
       "         130: 59,\n",
       "         402: 59,\n",
       "         105: 75,\n",
       "         391: 50,\n",
       "         188: 65,\n",
       "         281: 60,\n",
       "         213: 60,\n",
       "         4: 60,\n",
       "         157: 69,\n",
       "         22: 59,\n",
       "         228: 62,\n",
       "         117: 55,\n",
       "         118: 55,\n",
       "         390: 58,\n",
       "         395: 60,\n",
       "         518: 60,\n",
       "         104: 60,\n",
       "         217: 61,\n",
       "         433: 60,\n",
       "         394: 60,\n",
       "         132: 53,\n",
       "         133: 52,\n",
       "         160: 61,\n",
       "         235: 60,\n",
       "         19: 60,\n",
       "         15: 60,\n",
       "         26: 59,\n",
       "         368: 59,\n",
       "         44: 53,\n",
       "         63: 58,\n",
       "         387: 60,\n",
       "         16: 112,\n",
       "         17: 60,\n",
       "         30: 60,\n",
       "         110: 59,\n",
       "         159: 60,\n",
       "         443: 59,\n",
       "         189: 115,\n",
       "         193: 67,\n",
       "         194: 61,\n",
       "         45: 60,\n",
       "         108: 61,\n",
       "         70: 60,\n",
       "         515: 50,\n",
       "         457: 58,\n",
       "         191: 64,\n",
       "         284: 60,\n",
       "         321: 56,\n",
       "         505: 60,\n",
       "         492: 75,\n",
       "         88: 60,\n",
       "         113: 60,\n",
       "         354: 54,\n",
       "         318: 56,\n",
       "         61: 60,\n",
       "         423: 60,\n",
       "         148: 60,\n",
       "         449: 60,\n",
       "         204: 59,\n",
       "         385: 59,\n",
       "         369: 60,\n",
       "         197: 63,\n",
       "         175: 59,\n",
       "         90: 59,\n",
       "         91: 57,\n",
       "         388: 59,\n",
       "         400: 60,\n",
       "         384: 66,\n",
       "         102: 60,\n",
       "         103: 59,\n",
       "         269: 59,\n",
       "         6: 60,\n",
       "         8: 60,\n",
       "         292: 60,\n",
       "         481: 59,\n",
       "         7: 60,\n",
       "         441: 58,\n",
       "         336: 60,\n",
       "         340: 61,\n",
       "         253: 60,\n",
       "         257: 60,\n",
       "         236: 64,\n",
       "         123: 57,\n",
       "         255: 60,\n",
       "         211: 60,\n",
       "         64: 72,\n",
       "         311: 60,\n",
       "         522: 59,\n",
       "         182: 60,\n",
       "         147: 60,\n",
       "         237: 60,\n",
       "         426: 53,\n",
       "         57: 57,\n",
       "         56: 59,\n",
       "         266: 77,\n",
       "         436: 61,\n",
       "         21: 60,\n",
       "         459: 59,\n",
       "         125: 58,\n",
       "         163: 60,\n",
       "         247: 60,\n",
       "         327: 60,\n",
       "         47: 59,\n",
       "         342: 60,\n",
       "         23: 58,\n",
       "         523: 59,\n",
       "         179: 60,\n",
       "         180: 81,\n",
       "         181: 65,\n",
       "         144: 62,\n",
       "         224: 60,\n",
       "         5: 60,\n",
       "         488: 59,\n",
       "         485: 56,\n",
       "         145: 60,\n",
       "         199: 62,\n",
       "         333: 60,\n",
       "         334: 60,\n",
       "         245: 67,\n",
       "         421: 60,\n",
       "         119: 56,\n",
       "         120: 56,\n",
       "         428: 58,\n",
       "         246: 60,\n",
       "         38: 59,\n",
       "         409: 58,\n",
       "         230: 60,\n",
       "         455: 60,\n",
       "         490: 62,\n",
       "         432: 60,\n",
       "         242: 60,\n",
       "         40: 61,\n",
       "         303: 60,\n",
       "         401: 58,\n",
       "         308: 57,\n",
       "         309: 60,\n",
       "         24: 56,\n",
       "         207: 60,\n",
       "         46: 57,\n",
       "         75: 60,\n",
       "         205: 66,\n",
       "         206: 60,\n",
       "         408: 60,\n",
       "         367: 60,\n",
       "         405: 59,\n",
       "         406: 60,\n",
       "         219: 69,\n",
       "         296: 60,\n",
       "         184: 60})"
      ]
     },
     "execution_count": 34,
     "metadata": {},
     "output_type": "execute_result"
    }
   ],
   "source": [
    "flat_labels = [item for sublist in all_labels for item in sublist]\n",
    "from collections import Counter\n",
    "Counter(flat_labels)"
   ]
  }
 ],
 "metadata": {
  "kernelspec": {
   "display_name": "Python 3",
   "language": "python",
   "name": "python3"
  },
  "language_info": {
   "codemirror_mode": {
    "name": "ipython",
    "version": 3
   },
   "file_extension": ".py",
   "mimetype": "text/x-python",
   "name": "python",
   "nbconvert_exporter": "python",
   "pygments_lexer": "ipython3",
   "version": "3.6.7"
  }
 },
 "nbformat": 4,
 "nbformat_minor": 2
}
