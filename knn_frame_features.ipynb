{
 "cells": [
  {
   "cell_type": "code",
   "execution_count": 151,
   "metadata": {
    "collapsed": true
   },
   "outputs": [],
   "source": [
    "# imports\n",
    "import os\n",
    "import numpy as np\n",
    "import h5py\n",
    "import pickle\n",
    "import faiss"
   ]
  },
  {
   "cell_type": "code",
   "execution_count": 148,
   "metadata": {
    "collapsed": true
   },
   "outputs": [],
   "source": [
    "# paths and naming conventions\n",
    "data_path = '/mnt/e/ucf_101_sample/'\n",
    "frame_names = 'output000001.png'\n",
    "\n",
    "# read h5py file\n",
    "f = h5py.File('test_features.hdf5', 'r+')"
   ]
  },
  {
   "cell_type": "code",
   "execution_count": 145,
   "metadata": {},
   "outputs": [
    {
     "name": "stdout",
     "output_type": "stream",
     "text": [
      "(81, 512)\n"
     ]
    }
   ],
   "source": [
    "# get query image feature vector\n",
    "query_image = 'v_ApplyEyeMakeup_g03_c01.avi/output000001.png'\n",
    "xq = f[data_path + query_image][:]\n",
    "xq = np.reshape(xq, (1, -1))\n",
    "\n",
    "# get corpus matrix and labels\n",
    "xb = []\n",
    "labels = {}\n",
    "index = 0\n",
    "for video in f[data_path].keys():\n",
    "    for frame in f[data_path + video].keys():\n",
    "        full_path = os.path.join(data_path, video, frame)\n",
    "        xb.append(f[full_path][:])\n",
    "        labels[index] = full_path \n",
    "        index += 1\n",
    "xb = np.array(xb)\n",
    "print(xb.shape)"
   ]
  },
  {
   "cell_type": "code",
   "execution_count": 146,
   "metadata": {},
   "outputs": [
    {
     "name": "stdout",
     "output_type": "stream",
     "text": [
      "True\n",
      "81\n"
     ]
    }
   ],
   "source": [
    "# train the index\n",
    "d = 512                         # dimensions\n",
    "index = faiss.IndexFlatL2(512)  # build the index\n",
    "print(index.is_trained)\n",
    "index.add(xb)                  # add vectors to the index\n",
    "print(index.ntotal)"
   ]
  },
  {
   "cell_type": "code",
   "execution_count": 147,
   "metadata": {},
   "outputs": [
    {
     "name": "stdout",
     "output_type": "stream",
     "text": [
      "Query Frame:\n",
      " v_ApplyEyeMakeup_g03_c01.avi/output000001.png\n",
      "\n",
      "\n",
      "Top Similar Frames:\n",
      "1 :  /mnt/e/ucf_101_sample/v_ApplyEyeMakeup_g03_c01.avi/output000001.png\n",
      "2 :  /mnt/e/ucf_101_sample/v_ApplyEyeMakeup_g03_c01.avi/output000002.png\n",
      "3 :  /mnt/e/ucf_101_sample/v_ApplyEyeMakeup_g03_c01.avi/output000006.png\n"
     ]
    }
   ],
   "source": [
    "# perform the query\n",
    "k = 3\n",
    "D, I = index.search(x=xq, k=k)\n",
    "\n",
    "print('Query Frame:\\n', query_image)\n",
    "print('\\n')\n",
    "print('Top Similar Frames:')\n",
    "for i, ind in enumerate(I[0]):\n",
    "    print(i+1, ': ', labels[ind])"
   ]
  },
  {
   "cell_type": "code",
   "execution_count": null,
   "metadata": {
    "collapsed": true
   },
   "outputs": [],
   "source": []
  }
 ],
 "metadata": {
  "kernelspec": {
   "display_name": "Python [conda env:pytorch]",
   "language": "python",
   "name": "conda-env-pytorch-py"
  },
  "language_info": {
   "codemirror_mode": {
    "name": "ipython",
    "version": 3
   },
   "file_extension": ".py",
   "mimetype": "text/x-python",
   "name": "python",
   "nbconvert_exporter": "python",
   "pygments_lexer": "ipython3",
   "version": "3.6.8"
  }
 },
 "nbformat": 4,
 "nbformat_minor": 2
}
